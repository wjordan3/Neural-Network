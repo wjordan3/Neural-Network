{
 "cells": [
  {
   "cell_type": "code",
   "execution_count": 1,
   "metadata": {},
   "outputs": [
    {
     "name": "stderr",
     "output_type": "stream",
     "text": [
      "/home/ubuntu/anaconda3/envs/tensorflow_p36/lib/python3.6/site-packages/h5py/__init__.py:36: FutureWarning: Conversion of the second argument of issubdtype from `float` to `np.floating` is deprecated. In future, it will be treated as `np.float64 == np.dtype(float).type`.\n",
      "  from ._conv import register_converters as _register_converters\n",
      "Using TensorFlow backend.\n",
      "/home/ubuntu/anaconda3/envs/tensorflow_p36/lib/python3.6/site-packages/matplotlib/__init__.py:1067: UserWarning: Duplicate key in file \"/home/ubuntu/.config/matplotlib/matplotlibrc\", line #2\n",
      "  (fname, cnt))\n",
      "/home/ubuntu/anaconda3/envs/tensorflow_p36/lib/python3.6/site-packages/matplotlib/__init__.py:1067: UserWarning: Duplicate key in file \"/home/ubuntu/.config/matplotlib/matplotlibrc\", line #3\n",
      "  (fname, cnt))\n"
     ]
    }
   ],
   "source": [
    "import numpy as np\n",
    "from numpy import genfromtxt\n",
    "import keras\n",
    "from keras import backend as K\n",
    "from keras.preprocessing.text import Tokenizer\n",
    "from keras.layers import Embedding\n",
    "from keras import preprocessing\n",
    "from keras.callbacks import Callback, ModelCheckpoint, ReduceLROnPlateau\n",
    "from keras.models import Sequential\n",
    "from keras.layers import Flatten, Dense\n",
    "from keras.layers import GRU, LSTM, CuDNNGRU, CuDNNLSTM\n",
    "import matplotlib.pyplot as plt\n",
    "%matplotlib inline\n",
    "\n",
    "\n",
    "twitter_data = genfromtxt('/home/ubuntu/RNN_project/train.csv', delimiter=',', skip_header=1, usecols=np.arange(1,3), dtype=None, encoding=\"ISO-8859-1\")"
   ]
  },
  {
   "cell_type": "code",
   "execution_count": 130,
   "metadata": {},
   "outputs": [],
   "source": [
    "size = len(twitter_data)\n",
    "split1 = int(size*.8)\n",
    "split2 = int(size*.9)"
   ]
  },
  {
   "cell_type": "code",
   "execution_count": 131,
   "metadata": {},
   "outputs": [],
   "source": [
    "np.random.shuffle(twitter_data)"
   ]
  },
  {
   "cell_type": "code",
   "execution_count": 132,
   "metadata": {},
   "outputs": [],
   "source": [
    "train = twitter_data[0:split1]\n",
    "test = twitter_data[split1:split2]\n",
    "validation = twitter_data[split2:size]\n",
    "\n",
    "train_y = [y[0] for y in train]\n",
    "#decode to convert from byte to string\n",
    "train_x = [x[1] for x in train]\n",
    "\n",
    "test_y = [y[0] for y in test]\n",
    "test_x = [x[1]for x in test]\n",
    "\n",
    "validation_y = [y[0] for y in validation]\n",
    "validation_x = [x[1] for x in validation]\n"
   ]
  },
  {
   "cell_type": "code",
   "execution_count": 133,
   "metadata": {},
   "outputs": [
    {
     "name": "stdout",
     "output_type": "stream",
     "text": [
      "Found 80841 unique tokens.\n"
     ]
    }
   ],
   "source": [
    "max_tokens = 1000\n",
    "tokenizer = Tokenizer(num_words=max_tokens)\n",
    "tokenizer.fit_on_texts(train_x)\n",
    "sequences = tokenizer.texts_to_sequences(train_x)\n",
    "\n",
    "#one_hot_results = tokenizer.texts_to_matrix(train_x, mode='binary')\n",
    "\n",
    "word_index = tokenizer.word_index\n",
    "print('Found %s unique tokens.' % len(word_index))"
   ]
  },
  {
   "cell_type": "code",
   "execution_count": 134,
   "metadata": {},
   "outputs": [],
   "source": [
    "embedding_layer = Embedding(max_tokens, 8)\n",
    "\n",
    "max_length = 140\n",
    "\n",
    "train_x = tokenizer.texts_to_sequences(train_x)\n",
    "test_x = tokenizer.texts_to_sequences(test_x)\n",
    "validation_x = tokenizer.texts_to_sequences(validation_x)\n",
    "\n",
    "train_x = preprocessing.sequence.pad_sequences(train_x, maxlen=max_length)\n",
    "test_x = preprocessing.sequence.pad_sequences(test_x, maxlen=max_length)\n",
    "validation_x = preprocessing.sequence.pad_sequences(validation_x, maxlen=max_length)\n",
    "\n",
    "train_y = np.array(train_y)\n",
    "test_y = np.array(test_y)\n",
    "validation_y = np.array(validation_y)"
   ]
  },
  {
   "cell_type": "code",
   "execution_count": 135,
   "metadata": {},
   "outputs": [
    {
     "name": "stdout",
     "output_type": "stream",
     "text": [
      "(80000, 140) (10000, 140) (10000, 140)\n"
     ]
    }
   ],
   "source": [
    "print(train_x.shape, test_x.shape, validation_x.shape)"
   ]
  },
  {
   "cell_type": "code",
   "execution_count": 136,
   "metadata": {},
   "outputs": [
    {
     "name": "stdout",
     "output_type": "stream",
     "text": [
      "_________________________________________________________________\n",
      "Layer (type)                 Output Shape              Param #   \n",
      "=================================================================\n",
      "embedding_1 (Embedding)      (None, 140, 8)            8000      \n",
      "_________________________________________________________________\n",
      "gru_1 (GRU)                  (None, 140, 16)           1200      \n",
      "_________________________________________________________________\n",
      "gru_2 (GRU)                  (None, 140, 8)            600       \n",
      "_________________________________________________________________\n",
      "lstm_1 (LSTM)                (None, 8)                 544       \n",
      "_________________________________________________________________\n",
      "dense_1 (Dense)              (None, 1)                 9         \n",
      "=================================================================\n",
      "Total params: 10,353\n",
      "Trainable params: 10,353\n",
      "Non-trainable params: 0\n",
      "_________________________________________________________________\n"
     ]
    }
   ],
   "source": [
    "K.clear_session()\n",
    "model = Sequential()\n",
    "model.add(Embedding(max_tokens, 8, input_length=max_length))\n",
    "#use this for local/cpu testing\n",
    "model.add(GRU(16, recurrent_dropout=0.4, return_sequences=True))\n",
    "model.add(GRU(8, recurrent_dropout=0.4, return_sequences=True))\n",
    "#model.add(GRU(4, recurrent_dropout=0.2))\n",
    "model.add(LSTM(8))\n",
    "#use this for GPU\n",
    "#model.add(CuDNNGRU(16, return_sequences=True))\n",
    "#model.add(CuDNNLSTM(16))\n",
    "model.add(Dense(1, activation='sigmoid'))\n",
    "\n",
    "model.compile(optimizer='Nadam',\n",
    "              loss='binary_crossentropy',\n",
    "              metrics=['acc'])\n",
    "model.summary()"
   ]
  },
  {
   "cell_type": "code",
   "execution_count": 137,
   "metadata": {},
   "outputs": [
    {
     "name": "stdout",
     "output_type": "stream",
     "text": [
      "Train on 80000 samples, validate on 10000 samples\n",
      "Epoch 1/50\n",
      "80000/80000 [==============================] - 8s 102us/step - loss: 0.6912 - acc: 0.5429 - val_loss: 0.6889 - val_acc: 0.5622\n",
      "Epoch 2/50\n",
      "80000/80000 [==============================] - 6s 79us/step - loss: 0.6870 - acc: 0.5654 - val_loss: 0.6849 - val_acc: 0.5622\n",
      "Epoch 3/50\n",
      "80000/80000 [==============================] - 6s 79us/step - loss: 0.6832 - acc: 0.5654 - val_loss: 0.6821 - val_acc: 0.5622\n",
      "Epoch 4/50\n",
      "80000/80000 [==============================] - 6s 79us/step - loss: 0.6804 - acc: 0.5654 - val_loss: 0.6790 - val_acc: 0.5622\n",
      "Epoch 5/50\n",
      "80000/80000 [==============================] - 6s 79us/step - loss: 0.6765 - acc: 0.5654 - val_loss: 0.6731 - val_acc: 0.5635\n",
      "Epoch 6/50\n",
      "80000/80000 [==============================] - 6s 79us/step - loss: 0.6689 - acc: 0.5822 - val_loss: 0.6625 - val_acc: 0.6067\n",
      "Epoch 7/50\n",
      "80000/80000 [==============================] - 6s 79us/step - loss: 0.6565 - acc: 0.6248 - val_loss: 0.6468 - val_acc: 0.6309\n",
      "Epoch 8/50\n",
      "80000/80000 [==============================] - 6s 79us/step - loss: 0.6429 - acc: 0.6476 - val_loss: 0.6314 - val_acc: 0.6481\n",
      "Epoch 9/50\n",
      "80000/80000 [==============================] - 6s 79us/step - loss: 0.6254 - acc: 0.6643 - val_loss: 0.6162 - val_acc: 0.6636\n",
      "Epoch 10/50\n",
      "80000/80000 [==============================] - 6s 79us/step - loss: 0.6164 - acc: 0.6739 - val_loss: 0.6071 - val_acc: 0.6717\n",
      "Epoch 11/50\n",
      "80000/80000 [==============================] - 6s 79us/step - loss: 0.6039 - acc: 0.6819 - val_loss: 0.5974 - val_acc: 0.6831\n",
      "Epoch 12/50\n",
      "80000/80000 [==============================] - 6s 79us/step - loss: 0.5936 - acc: 0.6910 - val_loss: 0.5894 - val_acc: 0.6924\n",
      "Epoch 13/50\n",
      "80000/80000 [==============================] - 6s 79us/step - loss: 0.5854 - acc: 0.6976 - val_loss: 0.5844 - val_acc: 0.6926\n",
      "Epoch 14/50\n",
      "80000/80000 [==============================] - 6s 79us/step - loss: 0.5811 - acc: 0.7001 - val_loss: 0.5808 - val_acc: 0.6934\n",
      "Epoch 15/50\n",
      "80000/80000 [==============================] - 6s 79us/step - loss: 0.5747 - acc: 0.7051 - val_loss: 0.5741 - val_acc: 0.7027\n",
      "Epoch 16/50\n",
      "80000/80000 [==============================] - 6s 79us/step - loss: 0.5681 - acc: 0.7101 - val_loss: 0.5705 - val_acc: 0.7070\n",
      "Epoch 17/50\n",
      "80000/80000 [==============================] - 6s 79us/step - loss: 0.5641 - acc: 0.7132 - val_loss: 0.5676 - val_acc: 0.7090\n",
      "Epoch 18/50\n",
      "80000/80000 [==============================] - 6s 79us/step - loss: 0.5608 - acc: 0.7159 - val_loss: 0.5652 - val_acc: 0.7119\n",
      "Epoch 19/50\n",
      "80000/80000 [==============================] - 6s 79us/step - loss: 0.5579 - acc: 0.7181 - val_loss: 0.5639 - val_acc: 0.7136\n",
      "Epoch 20/50\n",
      "80000/80000 [==============================] - 6s 79us/step - loss: 0.5577 - acc: 0.7197 - val_loss: 0.5657 - val_acc: 0.7126\n",
      "Epoch 21/50\n",
      "80000/80000 [==============================] - 6s 79us/step - loss: 0.5562 - acc: 0.7201 - val_loss: 0.5605 - val_acc: 0.7148\n",
      "Epoch 22/50\n",
      "80000/80000 [==============================] - 6s 79us/step - loss: 0.5516 - acc: 0.7246 - val_loss: 0.5589 - val_acc: 0.7154\n",
      "Epoch 23/50\n",
      "80000/80000 [==============================] - 6s 79us/step - loss: 0.5492 - acc: 0.7258 - val_loss: 0.5577 - val_acc: 0.7180\n",
      "Epoch 24/50\n",
      "80000/80000 [==============================] - 6s 79us/step - loss: 0.5480 - acc: 0.7271 - val_loss: 0.5572 - val_acc: 0.7190\n",
      "Epoch 25/50\n",
      "80000/80000 [==============================] - 6s 79us/step - loss: 0.5491 - acc: 0.7255 - val_loss: 0.5581 - val_acc: 0.7185\n",
      "Epoch 26/50\n",
      "80000/80000 [==============================] - 6s 79us/step - loss: 0.5473 - acc: 0.7274 - val_loss: 0.5549 - val_acc: 0.7203\n",
      "Epoch 27/50\n",
      "80000/80000 [==============================] - 6s 79us/step - loss: 0.5438 - acc: 0.7298 - val_loss: 0.5537 - val_acc: 0.7218\n",
      "Epoch 28/50\n",
      "80000/80000 [==============================] - 6s 79us/step - loss: 0.5428 - acc: 0.7303 - val_loss: 0.5529 - val_acc: 0.7222\n",
      "Epoch 29/50\n",
      "80000/80000 [==============================] - 6s 79us/step - loss: 0.5423 - acc: 0.7306 - val_loss: 0.5527 - val_acc: 0.7214\n",
      "Epoch 30/50\n",
      "80000/80000 [==============================] - 6s 79us/step - loss: 0.5410 - acc: 0.7317 - val_loss: 0.5513 - val_acc: 0.7235\n",
      "Epoch 31/50\n",
      "80000/80000 [==============================] - 6s 79us/step - loss: 0.5406 - acc: 0.7320 - val_loss: 0.5535 - val_acc: 0.7213\n",
      "Epoch 32/50\n",
      "80000/80000 [==============================] - 6s 79us/step - loss: 0.5416 - acc: 0.7306 - val_loss: 0.5492 - val_acc: 0.7256\n",
      "Epoch 33/50\n",
      "80000/80000 [==============================] - 6s 79us/step - loss: 0.5377 - acc: 0.7332 - val_loss: 0.5478 - val_acc: 0.7260\n",
      "Epoch 34/50\n",
      "80000/80000 [==============================] - 6s 79us/step - loss: 0.5365 - acc: 0.7338 - val_loss: 0.5471 - val_acc: 0.7266\n",
      "Epoch 35/50\n",
      "80000/80000 [==============================] - 6s 79us/step - loss: 0.5370 - acc: 0.7338 - val_loss: 0.5581 - val_acc: 0.7154\n",
      "Epoch 36/50\n",
      "80000/80000 [==============================] - 6s 79us/step - loss: 0.5391 - acc: 0.7311 - val_loss: 0.5459 - val_acc: 0.7268\n",
      "Epoch 37/50\n",
      "80000/80000 [==============================] - 6s 79us/step - loss: 0.5352 - acc: 0.7346 - val_loss: 0.5453 - val_acc: 0.7273\n",
      "Epoch 38/50\n",
      "80000/80000 [==============================] - 6s 79us/step - loss: 0.5334 - acc: 0.7360 - val_loss: 0.5442 - val_acc: 0.7290\n",
      "Epoch 39/50\n",
      "80000/80000 [==============================] - 6s 79us/step - loss: 0.5361 - acc: 0.7333 - val_loss: 0.5460 - val_acc: 0.7269\n",
      "Epoch 40/50\n",
      "80000/80000 [==============================] - 6s 79us/step - loss: 0.5338 - acc: 0.7358 - val_loss: 0.5428 - val_acc: 0.7310\n",
      "Epoch 41/50\n",
      "80000/80000 [==============================] - 6s 79us/step - loss: 0.5318 - acc: 0.7371 - val_loss: 0.5421 - val_acc: 0.7302\n",
      "Epoch 42/50\n",
      "80000/80000 [==============================] - 6s 79us/step - loss: 0.5311 - acc: 0.7370 - val_loss: 0.5417 - val_acc: 0.7294\n",
      "Epoch 43/50\n",
      "80000/80000 [==============================] - 6s 79us/step - loss: 0.5318 - acc: 0.7357 - val_loss: 0.5612 - val_acc: 0.7148\n",
      "Epoch 44/50\n",
      "80000/80000 [==============================] - 6s 79us/step - loss: 0.5384 - acc: 0.7316 - val_loss: 0.5414 - val_acc: 0.7291\n",
      "Epoch 45/50\n",
      "80000/80000 [==============================] - 6s 79us/step - loss: 0.5306 - acc: 0.7369 - val_loss: 0.5405 - val_acc: 0.7295\n",
      "Epoch 46/50\n",
      "80000/80000 [==============================] - 6s 79us/step - loss: 0.5302 - acc: 0.7370 - val_loss: 0.5428 - val_acc: 0.7285\n",
      "Epoch 47/50\n",
      "80000/80000 [==============================] - 6s 79us/step - loss: 0.5348 - acc: 0.7321 - val_loss: 0.5408 - val_acc: 0.7290\n",
      "Epoch 48/50\n",
      "80000/80000 [==============================] - 6s 79us/step - loss: 0.5300 - acc: 0.7366 - val_loss: 0.5397 - val_acc: 0.7294\n",
      "Epoch 49/50\n",
      "80000/80000 [==============================] - 6s 79us/step - loss: 0.5290 - acc: 0.7370 - val_loss: 0.5393 - val_acc: 0.7296\n",
      "Epoch 50/50\n",
      "80000/80000 [==============================] - 6s 79us/step - loss: 0.5285 - acc: 0.7379 - val_loss: 0.5391 - val_acc: 0.7296\n"
     ]
    }
   ],
   "source": [
    "checkpoint = ModelCheckpoint('NLP_model.{epoch:02d}-{val_loss:.2f}.h5', monitor='val_loss', save_best_only=True)\n",
    "reduce_lr = ReduceLROnPlateau(monitor='val_loss', factor=0.1, patience=5, cooldown=5, min_lr=0.0001)\n",
    "\n",
    "history = model.fit(train_x, train_y,\n",
    "                    epochs=50,\n",
    "                    batch_size=20000,\n",
    "                    validation_data=(validation_x, validation_y),\n",
    "                    callbacks=[checkpoint,reduce_lr])"
   ]
  },
  {
   "cell_type": "code",
   "execution_count": 138,
   "metadata": {},
   "outputs": [
    {
     "data": {
      "image/png": "[encoded data removed]",
      "text/plain": [
       "<Figure size 432x288 with 1 Axes>"
      ]
     },
     "metadata": {},
     "output_type": "display_data"
    },
    {
     "data": {
      "image/png": "[encoded data removed]",
      "text/plain": [
       "<Figure size 432x288 with 1 Axes>"
      ]
     },
     "metadata": {},
     "output_type": "display_data"
    }
   ],
   "source": [
    "acc = history.history['acc']\n",
    "val_acc = history.history['val_acc']\n",
    "loss = history.history['loss']\n",
    "val_loss = history.history['val_loss']\n",
    "\n",
    "epochs = range(len(acc))\n",
    "\n",
    "plt.plot(epochs, acc, 'bo', label='Training acc')\n",
    "plt.plot(epochs, val_acc, 'b', label='Validation acc')\n",
    "plt.title('Training and validation accuracy')\n",
    "plt.legend()\n",
    "\n",
    "plt.figure()\n",
    "\n",
    "plt.plot(epochs, loss, 'bo', label='Training loss')\n",
    "plt.plot(epochs, val_loss, 'b', label='Validation loss')\n",
    "plt.title('Training and validation loss')\n",
    "plt.legend()\n",
    "\n",
    "plt.show()"
   ]
  },
  {
   "cell_type": "code",
   "execution_count": 139,
   "metadata": {},
   "outputs": [
    {
     "name": "stdout",
     "output_type": "stream",
     "text": [
      "10000/10000 [==============================] - 32s 3ms/step\n"
     ]
    },
    {
     "data": {
      "text/plain": [
       "[0.5417143960952758, 0.7284]"
      ]
     },
     "execution_count": 139,
     "metadata": {},
     "output_type": "execute_result"
    }
   ],
   "source": [
    "model.evaluate(test_x, test_y)"
   ]
  },
  {
   "cell_type": "code",
   "execution_count": 140,
   "metadata": {},
   "outputs": [],
   "source": [
    "model.save('NLP_model.h5')"
   ]
  },
  {
   "cell_type": "code",
   "execution_count": null,
   "metadata": {},
   "outputs": [],
   "source": []
  }
 ],
 "metadata": {
  "kernelspec": {
   "display_name": "Python 3",
   "language": "python",
   "name": "python3"
  },
  "language_info": {
   "codemirror_mode": {
    "name": "ipython",
    "version": 3
   },
   "file_extension": ".py",
   "mimetype": "text/x-python",
   "name": "python",
   "nbconvert_exporter": "python",
   "pygments_lexer": "ipython3",
   "version": "3.6.4"
  }
 },
 "nbformat": 4,
 "nbformat_minor": 2
}
